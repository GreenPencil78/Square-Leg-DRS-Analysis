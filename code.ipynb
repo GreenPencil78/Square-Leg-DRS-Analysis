{
 "cells": [
  {
   "cell_type": "code",
   "execution_count": 110,
   "metadata": {},
   "outputs": [],
   "source": [
    "import cv2\n",
    "import numpy as np\n",
    "import time"
   ]
  },
  {
   "cell_type": "code",
   "execution_count": 111,
   "metadata": {},
   "outputs": [],
   "source": [
    "cap = cv2.VideoCapture(\"FILE PATH\")\n",
    "cap_2 = cv2.VideoCapture(\"FILE PATH\")"
   ]
  },
  {
   "cell_type": "code",
   "execution_count": 113,
   "metadata": {},
   "outputs": [],
   "source": [
    "HUE_VAL = 35\n",
    "lower_color = np.array([HUE_VAL-10, 50, 100])\n",
    "upper_color = np.array([HUE_VAL + 10, 255, 255])"
   ]
  },
  {
   "cell_type": "code",
   "execution_count": 114,
   "metadata": {},
   "outputs": [],
   "source": [
    "HUE_VAL_STUMPS = 17\n",
    "lower_color_stumps = np.array([HUE_VAL_STUMPS-7, 100, 100])\n",
    "upper_color_stumps = np.array([HUE_VAL_STUMPS + 7, 255, 255])"
   ]
  },
  {
   "cell_type": "code",
   "execution_count": 115,
   "metadata": {},
   "outputs": [],
   "source": [
    "#detects contours on stumps\n",
    "object_area = 0\n",
    "top_left_x = 0\n",
    "top_left_y = 0\n",
    "top_right_x = 0\n",
    "top_right_y = 0\n",
    "bottom_left_x = 0\n",
    "bottom_left_y = 0\n",
    "bottom_right_x = 0\n",
    "bottom_right_y = 0\n",
    "frame_no = 50\n",
    "# Set the frame position\n",
    "cap_2.set(cv2.CAP_PROP_POS_FRAMES, frame_no)\n",
    "\n",
    "# Read the specific frame\n",
    "ret, frame = cap_2.read()\n",
    "\n",
    "if ret:\n",
    "    # Display the frame\n",
    "    cv2.imshow('Frame', frame)\n",
    "\n",
    "    # Save the frame as an image (optional)\n",
    "    cv2.imwrite('extracted_frame.jpg', frame)\n",
    "    hsv = cv2.cvtColor(frame, cv2.COLOR_BGR2HSV)\n",
    "    color_mask = cv2.inRange(hsv, lower_color_stumps, upper_color_stumps)\n",
    "    contours, _ = cv2.findContours(color_mask, cv2.RETR_LIST, cv2.CHAIN_APPROX_SIMPLE)\n",
    "    image_copy = frame.copy()\n",
    "    cv2.drawContours(image_copy, contours, -1, (0, 255, 0), thickness = 2)\n",
    "    cv2.imshow('Contours', image_copy)\n",
    "    cv2.imshow('Mask', color_mask)\n",
    "    cv2.imwrite('contours_stumps.jpg', image_copy)\n",
    "    \n",
    "    for contour in contours:\n",
    "        x,y,width,height = cv2.boundingRect(contour)\n",
    "        found_area = width*height\n",
    "        #print(x)\n",
    "        #print(y)\n",
    "        #print(width)\n",
    "        #print(height)\n",
    "        \n",
    "        if object_area < found_area and found_area > 0:\n",
    "            object_area = found_area\n",
    "            top_left_x = x\n",
    "            top_left_y = y\n",
    "            top_right_x = top_left_x + width\n",
    "            top_right_y = y\n",
    "            bottom_left_x = x\n",
    "            bottom_left_y = top_left_y + height\n",
    "            bottom_right_x = bottom_left_x + width\n",
    "            bottom_right_y = bottom_left_y\n",
    "    cv2.destroyAllWindows()\n",
    "cap_2.release()"
   ]
  },
  {
   "cell_type": "code",
   "execution_count": 116,
   "metadata": {},
   "outputs": [],
   "source": [
    "#detects contours on ball\n",
    "ball_location_x = []\n",
    "ball_location_y = []\n",
    "area = []\n",
    "frameno = 0\n",
    "while True:\n",
    "    ret, frame = cap.read()\n",
    "    if not ret:\n",
    "        break  # Break if video has ended\n",
    "    hsv = cv2.cvtColor(frame, cv2.COLOR_BGR2HSV)\n",
    "    color_mask = cv2.inRange(hsv, lower_color, upper_color)\n",
    "    contours, _ = cv2.findContours(color_mask, cv2.RETR_LIST, cv2.CHAIN_APPROX_SIMPLE)\n",
    "    \n",
    "    object_area = 0\n",
    "    object_x = 0\n",
    "    object_y = 0\n",
    "    \n",
    "    h,width = frame.shape[:2]\n",
    "    # Loop through contours to detect balls\n",
    "    for contour in contours:\n",
    "       x,y,width,height = cv2.boundingRect(contour)\n",
    "       found_area = width*height\n",
    "       center_x = x + (width/2)\n",
    "       center_y = y + (height/2)\n",
    "       if object_area < found_area:\n",
    "           object_area = found_area\n",
    "           object_x = center_x\n",
    "           object_y = center_y\n",
    "    if object_area > 0:\n",
    "        area.append(object_area)\n",
    "        if(frameno != 0):\n",
    "            if abs(ball_location_x[frameno - 1] - object_x) < 200 or abs(ball_location_y[frameno - 1] - object_y) < 200:\n",
    "                ball_location_x.append(object_x)\n",
    "                ball_location_y.append(h - object_y)\n",
    "                #print(\"Hi\")\n",
    "                frameno+=1\n",
    "        else:\n",
    "            ball_location_x.append(object_x)\n",
    "            ball_location_y.append(h - object_y)\n",
    "            frameno+=1\n"
   ]
  },
  {
   "cell_type": "code",
   "execution_count": 117,
   "metadata": {},
   "outputs": [
    {
     "name": "stdout",
     "output_type": "stream",
     "text": [
      "81\n"
     ]
    }
   ],
   "source": [
    "print(frameno)"
   ]
  },
  {
   "cell_type": "code",
   "execution_count": 118,
   "metadata": {},
   "outputs": [
    {
     "name": "stdout",
     "output_type": "stream",
     "text": [
      "[50.0, 50.0, 50.0, 50.0, 50.0, 50.0, 50.0, 50.0, 164.0, 164.0, 164.0, 164.0, 164.0, 164.0, 164.0, 164.0, 164.0, 164.0, 282.0, 282.0, 282.0, 282.0, 282.0, 282.0, 282.0, 282.0, 282.0, 282.0, 396.0, 396.0, 397.0, 397.0, 397.0, 397.0, 397.0, 397.0, 397.0, 397.0, 506.0, 506.0, 506.0, 506.0, 506.0, 506.0, 506.0, 506.0, 506.0, 506.0, 608.0, 608.0, 608.0, 608.0, 608.0, 608.0, 608.0, 608.0, 608.0, 608.0, 676.0, 676.0, 676.0, 676.0, 676.0, 676.0, 676.0, 676.0, 676.0, 676.0, 701.5, 701.5, 701.5, 701.5, 701.5, 701.5, 701.5, 701.5, 701.5, 701.5, 697.0, 697.0, 697.0]\n",
      "[703.0, 702.0, 702.0, 702.0, 702.0, 702.0, 702.0, 702.0, 599.0, 599.0, 599.0, 599.0, 599.0, 599.0, 599.0, 599.0, 599.0, 599.0, 486.0, 486.0, 486.0, 486.0, 486.0, 486.0, 486.0, 486.0, 486.0, 486.0, 359.0, 359.0, 359.0, 359.0, 359.0, 359.0, 359.0, 359.0, 359.0, 359.0, 235.5, 236.0, 236.0, 236.0, 236.0, 236.0, 236.0, 236.0, 236.0, 236.0, 113.0, 113.0, 113.0, 113.0, 113.0, 113.0, 113.0, 113.0, 113.0, 113.0, 211.0, 211.0, 211.0, 211.0, 211.0, 211.0, 211.0, 211.0, 211.0, 211.0, 298.0, 298.0, 298.0, 298.0, 298.0, 298.0, 298.0, 298.0, 298.0, 298.0, 377.0, 377.0, 377.0]\n",
      "[280, 240, 240, 240, 240, 240, 240, 240, 528, 528, 528, 528, 528, 528, 528, 528, 528, 528, 1440, 1440, 1440, 1440, 1440, 1440, 1440, 1440, 1440, 1440, 5616, 5616, 5772, 5772, 5772, 5772, 5772, 5772, 5772, 5772, 4420, 4352, 4352, 4352, 4352, 4352, 4352, 4352, 4352, 4352, 1216, 1216, 1216, 1216, 1216, 1216, 1216, 1216, 1216, 1216, 2576, 2576, 2576, 2576, 2576, 2576, 2576, 2576, 2576, 2576, 2820, 2820, 2820, 2820, 2820, 2820, 2820, 2820, 2820, 2820, 2700, 2700, 2700]\n"
     ]
    }
   ],
   "source": [
    "print(ball_location_x)\n",
    "print(ball_location_y)\n",
    "print(area)"
   ]
  },
  {
   "cell_type": "code",
   "execution_count": 119,
   "metadata": {},
   "outputs": [
    {
     "name": "stdout",
     "output_type": "stream",
     "text": [
      "81\n",
      "81\n",
      "81\n"
     ]
    }
   ],
   "source": [
    "print(len(ball_location_x))\n",
    "print(len(ball_location_y))\n",
    "print(len(area))"
   ]
  },
  {
   "cell_type": "code",
   "execution_count": 120,
   "metadata": {},
   "outputs": [],
   "source": [
    "import matplotlib.pyplot as plt"
   ]
  },
  {
   "cell_type": "code",
   "execution_count": 121,
   "metadata": {},
   "outputs": [
    {
     "data": {
      "image/png": "[encoded data removed]",
      "text/plain": [
       "<Figure size 640x480 with 1 Axes>"
      ]
     },
     "metadata": {},
     "output_type": "display_data"
    }
   ],
   "source": [
    "frameno = 0\n",
    "#plt.subplot(2, 1, 1)\n",
    "plt.xlabel(\"x\")\n",
    "plt.ylabel(\"y\")\n",
    "#fig.subtitle('White evaluation')\n",
    "for i in ball_location_x:\n",
    "    plt.plot(i, ball_location_y[frameno], 'o', color = 'black')\n",
    "    frameno = frameno + 1;\n",
    "    \n",
    "plt.plot(top_left_x, top_left_y, 'o', color = 'green')\n",
    "plt.plot(top_right_x, top_right_y, 'o', color = 'green')\n",
    "plt.plot(bottom_left_x, bottom_left_y, 'o', color = 'green')\n",
    "plt.plot(bottom_right_x, bottom_right_y, 'o', color = 'green')\n",
    "plt.show()"
   ]
  },
  {
   "cell_type": "code",
   "execution_count": 122,
   "metadata": {},
   "outputs": [],
   "source": [
    "fps = cap.get(cv2.CAP_PROP_FPS)\n",
    "delta_time = 1/fps\n",
    "velocity_x = []\n",
    "velocity_y = []\n",
    "counter = 0\n",
    "for i in range(len(ball_location_x)):\n",
    "    if(counter != 0):\n",
    "        velocity_x.append((ball_location_x[i] - ball_location_x[i - 1])/delta_time)\n",
    "        velocity_y.append((ball_location_y[i] - ball_location_y[i - 1])/delta_time)\n",
    "    counter+=1"
   ]
  },
  {
   "cell_type": "code",
   "execution_count": 123,
   "metadata": {},
   "outputs": [
    {
     "name": "stdout",
     "output_type": "stream",
     "text": [
      "80\n",
      "80\n",
      "81\n",
      "81\n"
     ]
    }
   ],
   "source": [
    "print(len(velocity_x))\n",
    "print(len(velocity_y))\n",
    "print(len(ball_location_x))\n",
    "print(len(ball_location_y))"
   ]
  },
  {
   "cell_type": "code",
   "execution_count": 124,
   "metadata": {},
   "outputs": [
    {
     "name": "stdout",
     "output_type": "stream",
     "text": [
      "[0.0, 0.0, 0.0, 0.0, 0.0, 0.0, 0.0, 3420.0, 0.0, 0.0, 0.0, 0.0, 0.0, 0.0, 0.0, 0.0, 0.0, 3540.0, 0.0, 0.0, 0.0, 0.0, 0.0, 0.0, 0.0, 0.0, 0.0, 3420.0, 0.0, 30.0, 0.0, 0.0, 0.0, 0.0, 0.0, 0.0, 0.0, 3270.0, 0.0, 0.0, 0.0, 0.0, 0.0, 0.0, 0.0, 0.0, 0.0, 3060.0, 0.0, 0.0, 0.0, 0.0, 0.0, 0.0, 0.0, 0.0, 0.0, 2040.0, 0.0, 0.0, 0.0, 0.0, 0.0, 0.0, 0.0, 0.0, 0.0, 765.0, 0.0, 0.0, 0.0, 0.0, 0.0, 0.0, 0.0, 0.0, 0.0, -135.0, 0.0, 0.0]\n",
      "[-30.0, 0.0, 0.0, 0.0, 0.0, 0.0, 0.0, -3090.0, 0.0, 0.0, 0.0, 0.0, 0.0, 0.0, 0.0, 0.0, 0.0, -3390.0, 0.0, 0.0, 0.0, 0.0, 0.0, 0.0, 0.0, 0.0, 0.0, -3810.0, 0.0, 0.0, 0.0, 0.0, 0.0, 0.0, 0.0, 0.0, 0.0, -3705.0, 15.0, 0.0, 0.0, 0.0, 0.0, 0.0, 0.0, 0.0, 0.0, -3690.0, 0.0, 0.0, 0.0, 0.0, 0.0, 0.0, 0.0, 0.0, 0.0, 2940.0, 0.0, 0.0, 0.0, 0.0, 0.0, 0.0, 0.0, 0.0, 0.0, 2610.0, 0.0, 0.0, 0.0, 0.0, 0.0, 0.0, 0.0, 0.0, 0.0, 2370.0, 0.0, 0.0]\n"
     ]
    }
   ],
   "source": [
    "print(velocity_x)\n",
    "print(velocity_y)"
   ]
  },
  {
   "cell_type": "code",
   "execution_count": 125,
   "metadata": {},
   "outputs": [
    {
     "name": "stdout",
     "output_type": "stream",
     "text": [
      "[50.0, 164.0, 282.0, 396.0, 397.0, 506.0, 608.0, 676.0, 701.5, 697.0]\n",
      "[703.0, 599.0, 486.0, 359.0, 359.0, 235.5, 113.0, 211.0, 298.0, 377.0]\n"
     ]
    },
    {
     "data": {
      "text/plain": [
       "2610.0"
      ]
     },
     "execution_count": 125,
     "metadata": {},
     "output_type": "execute_result"
    }
   ],
   "source": [
    "for i in range(len(velocity_x) - 1, -1, -1):  # Iterate in reverse\n",
    "    if velocity_x[i] == 0:\n",
    "        velocity_x.pop(i)\n",
    "        velocity_y.pop(i)\n",
    "        ball_location_x.pop(i + 1)\n",
    "        ball_location_y.pop(i + 1)\n",
    "print(ball_location_x)\n",
    "print(ball_location_y)\n",
    "ball_location_x.pop(len(ball_location_x) - 1)\n",
    "ball_location_x.pop(len(ball_location_x) - 1)\n",
    "ball_location_y.pop(len(ball_location_y) - 1)\n",
    "ball_location_y.pop(len(ball_location_y) - 1)\n",
    "velocity_x.pop(len(velocity_x) - 1)\n",
    "velocity_x.pop(len(velocity_x) - 1)\n",
    "velocity_y.pop(len(velocity_y) - 1)\n",
    "velocity_y.pop(len(velocity_y) - 1)\n",
    "#for i in range(len(velocity_x) - 1, -1, -1):  # Iterate in reverse\n",
    "    #if (abs(velocity_x[i] - velocity_x[i - 1]) > 1500):\n",
    "        #velocity_x.pop(i)\n",
    "        #velocity_y.pop(i)\n",
    "        #ball_location_x.pop(i + 1)\n",
    "        #ball_location_y.pop(i + 1)\n",
    "        \n",
    "#velocity_x = [v for v in velocity_x if v != 0]\n",
    "#velocity_y = [v for v in velocity_y if v != 0]"
   ]
  },
  {
   "cell_type": "code",
   "execution_count": 126,
   "metadata": {},
   "outputs": [
    {
     "name": "stdout",
     "output_type": "stream",
     "text": [
      "[3420.0, 3540.0, 3420.0, 30.0, 3270.0, 3060.0, 2040.0]\n",
      "[-3090.0, -3390.0, -3810.0, 0.0, -3705.0, -3690.0, 2940.0]\n",
      "[50.0, 164.0, 282.0, 396.0, 397.0, 506.0, 608.0, 676.0]\n",
      "[703.0, 599.0, 486.0, 359.0, 359.0, 235.5, 113.0, 211.0]\n"
     ]
    }
   ],
   "source": [
    "print(velocity_x)\n",
    "print(velocity_y)\n",
    "print(ball_location_x)\n",
    "print(ball_location_y)"
   ]
  },
  {
   "cell_type": "code",
   "execution_count": 127,
   "metadata": {},
   "outputs": [
    {
     "name": "stdout",
     "output_type": "stream",
     "text": [
      "7\n",
      "7\n",
      "8\n",
      "8\n"
     ]
    }
   ],
   "source": [
    "print(len(velocity_x))\n",
    "print(len(velocity_y))\n",
    "print(len(ball_location_x))\n",
    "print(len(ball_location_y))"
   ]
  },
  {
   "cell_type": "code",
   "execution_count": 128,
   "metadata": {},
   "outputs": [
    {
     "name": "stdout",
     "output_type": "stream",
     "text": [
      "[3420.0, 3540.0, 3420.0, 30.0, 3270.0, 3060.0, 2040.0]\n",
      "[-3090.0, -3390.0, -3810.0, 0.0, -3705.0, -3690.0, 2940.0]\n"
     ]
    }
   ],
   "source": [
    "print(velocity_x)\n",
    "print(velocity_y)"
   ]
  },
  {
   "cell_type": "code",
   "execution_count": 129,
   "metadata": {},
   "outputs": [
    {
     "data": {
      "image/png": "[encoded data removed]",
      "text/plain": [
       "<Figure size 640x480 with 2 Axes>"
      ]
     },
     "metadata": {},
     "output_type": "display_data"
    }
   ],
   "source": [
    "frameno = 0\n",
    "plt.subplot(2, 1, 1)\n",
    "plt.xlabel(\"frameno\")\n",
    "plt.ylabel(\"velocity_x\")\n",
    "#fig.subtitle('White evaluation')\n",
    "for i in velocity_x:\n",
    "    plt.plot(frameno, i, 'o', color = 'black')\n",
    "    frameno = frameno + 1;\n",
    "    \n",
    "frameno = 0\n",
    "plt.subplot(2, 1, 2)\n",
    "plt.xlabel(\"frameno\")\n",
    "plt.ylabel(\"velocity_y\")\n",
    "#fig.subtitle('White evaluation')\n",
    "for i in velocity_y:\n",
    "    plt.plot(frameno, i, 'o', color = 'black')\n",
    "    frameno = frameno + 1;"
   ]
  },
  {
   "cell_type": "code",
   "execution_count": 130,
   "metadata": {},
   "outputs": [
    {
     "name": "stdout",
     "output_type": "stream",
     "text": [
      "6\n"
     ]
    }
   ],
   "source": [
    "counter = -1\n",
    "for i in range(len(velocity_x)):\n",
    "    if (velocity_x[i] < 0):\n",
    "        break\n",
    "    counter = i\n",
    "print(counter)"
   ]
  },
  {
   "cell_type": "code",
   "execution_count": 131,
   "metadata": {},
   "outputs": [
    {
     "name": "stdout",
     "output_type": "stream",
     "text": [
      "2040.0\n",
      "2940.0\n",
      "608.0\n",
      "113.0\n"
     ]
    }
   ],
   "source": [
    "print(velocity_x[counter])\n",
    "print(velocity_y[counter])\n",
    "print(ball_location_x[counter])\n",
    "print(ball_location_y[counter])"
   ]
  },
  {
   "cell_type": "code",
   "execution_count": 132,
   "metadata": {},
   "outputs": [
    {
     "name": "stdout",
     "output_type": "stream",
     "text": [
      "[50.0, 164.0, 282.0, 396.0, 397.0, 506.0, 608.0, 676.0]\n",
      "[703.0, 599.0, 486.0, 359.0, 359.0, 235.5, 113.0, 211.0]\n",
      "[-3090.0, -3390.0, -3810.0, 0.0, -3705.0, -3690.0, 2940.0]\n",
      "587\n",
      "2940.0\n",
      "1234\n"
     ]
    }
   ],
   "source": [
    "predicted_position_x = []\n",
    "predicted_position_y = []\n",
    "predicted_velocity_y = []\n",
    "for i in range(counter+1):\n",
    "    predicted_position_x.append(ball_location_x[i])\n",
    "    predicted_position_y.append(ball_location_y[i])\n",
    "    predicted_velocity_y.append(velocity_y[i])\n",
    "\n",
    "predicted_position_x.append(ball_location_x[counter +1])\n",
    "predicted_position_y.append(ball_location_y[counter+1])\n",
    "print(predicted_position_x)\n",
    "print(predicted_position_y)\n",
    "print(predicted_velocity_y)\n",
    "heightWickets = bottom_right_y - top_right_y\n",
    "print(heightWickets)\n",
    "PixelsPerMeter = heightWickets/0.7112\n",
    "acceleration = 9.8 * PixelsPerMeter\n",
    "print(predicted_velocity_y[-1])\n",
    "print(top_right_x)\n",
    "while(predicted_position_x[-1] <= top_right_x):\n",
    "    #print(predicted_position_x[-1])\n",
    "    predicted_position_x.append(predicted_position_x[-1] + velocity_x[counter]*delta_time)\n",
    "    #print(predicted_position_x[-1])\n",
    "    predicted_velocity_y.append(predicted_velocity_y[-1] + (-1*acceleration)*delta_time)\n",
    "    predicted_position_y.append(predicted_position_y[-1] + predicted_velocity_y[-1]*delta_time)\n",
    "    \n",
    "    #remove this line if the ball would bounce after hitting the batsman's pads\n",
    "    if (predicted_position_y[-1] < 0):\n",
    "        break"
   ]
  },
  {
   "cell_type": "code",
   "execution_count": 133,
   "metadata": {},
   "outputs": [
    {
     "name": "stdout",
     "output_type": "stream",
     "text": [
      "[50.0, 164.0, 282.0, 396.0, 397.0, 506.0, 608.0, 676.0, 744.0, 812.0, 880.0, 948.0, 1016.0, 1084.0, 1152.0, 1220.0, 1288.0]\n",
      "[703.0, 599.0, 486.0, 359.0, 359.0, 235.5, 113.0, 211.0, 300.0126859142607, 380.03805774278214, 451.0761154855643, 513.1268591426071, 566.1902887139107, 610.266404199475, 645.3552055993, 671.4566929133857, 688.5708661417323]\n",
      "17\n",
      "17\n"
     ]
    }
   ],
   "source": [
    "print(predicted_position_x)\n",
    "print(predicted_position_y)\n",
    "print(len(predicted_position_x))\n",
    "print(len(predicted_position_y))"
   ]
  },
  {
   "cell_type": "code",
   "execution_count": null,
   "metadata": {},
   "outputs": [
    {
     "data": {
      "text/plain": [
       "[<matplotlib.lines.Line2D at 0x21020f2f150>]"
      ]
     },
     "execution_count": 134,
     "metadata": {},
     "output_type": "execute_result"
    },
    {
     "data": {
      "image/png": "[encoded data removed]",
      "text/plain": [
       "<Figure size 640x480 with 1 Axes>"
      ]
     },
     "metadata": {},
     "output_type": "display_data"
    }
   ],
   "source": [
    "#plt.subplot(2, 1, 1)\n",
    "plt.xlabel(\"x position\")\n",
    "plt.ylabel(\"y position position\")\n",
    "#fig.subtitle('White evaluation')\n",
    "for i in range(len(predicted_position_x)):\n",
    "    if (i <= counter +1):\n",
    "        plt.plot(predicted_position_x[i], predicted_position_y[i], 'o', color = 'black')\n",
    "    else:\n",
    "        plt.plot(predicted_position_x[i], predicted_position_y[i], 'o', color = 'red')\n",
    "plt.plot(top_left_x, top_left_y, 'o', color = 'green')\n",
    "plt.plot(top_right_x, top_right_y, 'o', color = 'green')\n",
    "plt.plot(bottom_left_x, bottom_left_y, 'o', color = 'green')\n",
    "plt.plot(bottom_right_x, bottom_right_y, 'o', color = 'green')\n"
   ]
  },
  {
   "cell_type": "code",
   "execution_count": 135,
   "metadata": {},
   "outputs": [
    {
     "name": "stdout",
     "output_type": "stream",
     "text": [
      "1172\n",
      "1234\n"
     ]
    }
   ],
   "source": [
    "print(top_left_x)\n",
    "print(bottom_right_x)"
   ]
  },
  {
   "cell_type": "code",
   "execution_count": 136,
   "metadata": {},
   "outputs": [
    {
     "name": "stdout",
     "output_type": "stream",
     "text": [
      "Wickets Missing\n"
     ]
    }
   ],
   "source": [
    "wickets = False\n",
    "for i in range(len(predicted_position_x)):\n",
    "    if (predicted_position_x[i] >= top_left_x and predicted_position_y[i] >= top_left_y):\n",
    "        if (predicted_position_y[i] <= bottom_left_y):\n",
    "            wickets = True\n",
    "\n",
    "if (wickets == True):\n",
    "    print(\"Wickets Hitting\")\n",
    "else:\n",
    "    print(\"Wickets Missing\")"
   ]
  }
 ],
 "metadata": {
  "kernelspec": {
   "display_name": "Python 3",
   "language": "python",
   "name": "python3"
  },
  "language_info": {
   "codemirror_mode": {
    "name": "ipython",
    "version": 3
   },
   "file_extension": ".py",
   "mimetype": "text/x-python",
   "name": "python",
   "nbconvert_exporter": "python",
   "pygments_lexer": "ipython3",
   "version": "3.11.9"
  }
 },
 "nbformat": 4,
 "nbformat_minor": 2
}
